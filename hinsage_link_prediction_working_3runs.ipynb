{
  "nbformat": 4,
  "nbformat_minor": 0,
  "metadata": {
    "kernelspec": {
      "name": "python3",
      "display_name": "Python 3"
    },
    "language_info": {
      "codemirror_mode": {
        "name": "ipython",
        "version": 3
      },
      "file_extension": ".py",
      "mimetype": "text/x-python",
      "name": "python",
      "nbconvert_exporter": "python",
      "pygments_lexer": "ipython3",
      "version": "3.6.0"
    },
    "colab": {
      "name": "hinsage_link_prediction_working_3runs.ipynb",
      "provenance": [],
      "collapsed_sections": []
    },
    "accelerator": "GPU",
    "widgets": {
      "application/vnd.jupyter.widget-state+json": {
        "203c613ccd704198ae78ec8a0a4083cf": {
          "model_module": "@jupyter-widgets/controls",
          "model_name": "HBoxModel",
          "state": {
            "_view_name": "HBoxView",
            "_dom_classes": [],
            "_model_name": "HBoxModel",
            "_view_module": "@jupyter-widgets/controls",
            "_model_module_version": "1.5.0",
            "_view_count": null,
            "_view_module_version": "1.5.0",
            "box_style": "",
            "layout": "IPY_MODEL_8dfc517a12494fb1ac7d385fa4a83a31",
            "_model_module": "@jupyter-widgets/controls",
            "children": [
              "IPY_MODEL_cc030da6531245709205fa99eef22b3f",
              "IPY_MODEL_af236958173b471e839d3ab6aef19203"
            ]
          }
        },
        "8dfc517a12494fb1ac7d385fa4a83a31": {
          "model_module": "@jupyter-widgets/base",
          "model_name": "LayoutModel",
          "state": {
            "_view_name": "LayoutView",
            "grid_template_rows": null,
            "right": null,
            "justify_content": null,
            "_view_module": "@jupyter-widgets/base",
            "overflow": null,
            "_model_module_version": "1.2.0",
            "_view_count": null,
            "flex_flow": null,
            "width": null,
            "min_width": null,
            "border": null,
            "align_items": null,
            "bottom": null,
            "_model_module": "@jupyter-widgets/base",
            "top": null,
            "grid_column": null,
            "overflow_y": null,
            "overflow_x": null,
            "grid_auto_flow": null,
            "grid_area": null,
            "grid_template_columns": null,
            "flex": null,
            "_model_name": "LayoutModel",
            "justify_items": null,
            "grid_row": null,
            "max_height": null,
            "align_content": null,
            "visibility": null,
            "align_self": null,
            "height": null,
            "min_height": null,
            "padding": null,
            "grid_auto_rows": null,
            "grid_gap": null,
            "max_width": null,
            "order": null,
            "_view_module_version": "1.2.0",
            "grid_template_areas": null,
            "object_position": null,
            "object_fit": null,
            "grid_auto_columns": null,
            "margin": null,
            "display": null,
            "left": null
          }
        },
        "cc030da6531245709205fa99eef22b3f": {
          "model_module": "@jupyter-widgets/controls",
          "model_name": "IntProgressModel",
          "state": {
            "_view_name": "ProgressView",
            "style": "IPY_MODEL_635fc31a42a1498fa744d749d4a4137c",
            "_dom_classes": [],
            "description": "Creating graph from rating chunks",
            "_model_name": "IntProgressModel",
            "bar_style": "success",
            "max": 1,
            "_view_module": "@jupyter-widgets/controls",
            "_model_module_version": "1.5.0",
            "value": 1,
            "_view_count": null,
            "_view_module_version": "1.5.0",
            "orientation": "horizontal",
            "min": 0,
            "description_tooltip": null,
            "_model_module": "@jupyter-widgets/controls",
            "layout": "IPY_MODEL_02ad5300a6e446df983abd61423e4bc8"
          }
        },
        "af236958173b471e839d3ab6aef19203": {
          "model_module": "@jupyter-widgets/controls",
          "model_name": "HTMLModel",
          "state": {
            "_view_name": "HTMLView",
            "style": "IPY_MODEL_cf6aa86a790b4778a8972a106ffcdefa",
            "_dom_classes": [],
            "description": "",
            "_model_name": "HTMLModel",
            "placeholder": "​",
            "_view_module": "@jupyter-widgets/controls",
            "_model_module_version": "1.5.0",
            "value": "2it [00:07,  3.88s/it]",
            "_view_count": null,
            "_view_module_version": "1.5.0",
            "description_tooltip": null,
            "_model_module": "@jupyter-widgets/controls",
            "layout": "IPY_MODEL_7b0acd47b30846dbb4291a347e2caf8e"
          }
        },
        "635fc31a42a1498fa744d749d4a4137c": {
          "model_module": "@jupyter-widgets/controls",
          "model_name": "ProgressStyleModel",
          "state": {
            "_view_name": "StyleView",
            "_model_name": "ProgressStyleModel",
            "description_width": "initial",
            "_view_module": "@jupyter-widgets/base",
            "_model_module_version": "1.5.0",
            "_view_count": null,
            "_view_module_version": "1.2.0",
            "bar_color": null,
            "_model_module": "@jupyter-widgets/controls"
          }
        },
        "02ad5300a6e446df983abd61423e4bc8": {
          "model_module": "@jupyter-widgets/base",
          "model_name": "LayoutModel",
          "state": {
            "_view_name": "LayoutView",
            "grid_template_rows": null,
            "right": null,
            "justify_content": null,
            "_view_module": "@jupyter-widgets/base",
            "overflow": null,
            "_model_module_version": "1.2.0",
            "_view_count": null,
            "flex_flow": null,
            "width": null,
            "min_width": null,
            "border": null,
            "align_items": null,
            "bottom": null,
            "_model_module": "@jupyter-widgets/base",
            "top": null,
            "grid_column": null,
            "overflow_y": null,
            "overflow_x": null,
            "grid_auto_flow": null,
            "grid_area": null,
            "grid_template_columns": null,
            "flex": null,
            "_model_name": "LayoutModel",
            "justify_items": null,
            "grid_row": null,
            "max_height": null,
            "align_content": null,
            "visibility": null,
            "align_self": null,
            "height": null,
            "min_height": null,
            "padding": null,
            "grid_auto_rows": null,
            "grid_gap": null,
            "max_width": null,
            "order": null,
            "_view_module_version": "1.2.0",
            "grid_template_areas": null,
            "object_position": null,
            "object_fit": null,
            "grid_auto_columns": null,
            "margin": null,
            "display": null,
            "left": null
          }
        },
        "cf6aa86a790b4778a8972a106ffcdefa": {
          "model_module": "@jupyter-widgets/controls",
          "model_name": "DescriptionStyleModel",
          "state": {
            "_view_name": "StyleView",
            "_model_name": "DescriptionStyleModel",
            "description_width": "",
            "_view_module": "@jupyter-widgets/base",
            "_model_module_version": "1.5.0",
            "_view_count": null,
            "_view_module_version": "1.2.0",
            "_model_module": "@jupyter-widgets/controls"
          }
        },
        "7b0acd47b30846dbb4291a347e2caf8e": {
          "model_module": "@jupyter-widgets/base",
          "model_name": "LayoutModel",
          "state": {
            "_view_name": "LayoutView",
            "grid_template_rows": null,
            "right": null,
            "justify_content": null,
            "_view_module": "@jupyter-widgets/base",
            "overflow": null,
            "_model_module_version": "1.2.0",
            "_view_count": null,
            "flex_flow": null,
            "width": null,
            "min_width": null,
            "border": null,
            "align_items": null,
            "bottom": null,
            "_model_module": "@jupyter-widgets/base",
            "top": null,
            "grid_column": null,
            "overflow_y": null,
            "overflow_x": null,
            "grid_auto_flow": null,
            "grid_area": null,
            "grid_template_columns": null,
            "flex": null,
            "_model_name": "LayoutModel",
            "justify_items": null,
            "grid_row": null,
            "max_height": null,
            "align_content": null,
            "visibility": null,
            "align_self": null,
            "height": null,
            "min_height": null,
            "padding": null,
            "grid_auto_rows": null,
            "grid_gap": null,
            "max_width": null,
            "order": null,
            "_view_module_version": "1.2.0",
            "grid_template_areas": null,
            "object_position": null,
            "object_fit": null,
            "grid_auto_columns": null,
            "margin": null,
            "display": null,
            "left": null
          }
        }
      }
    }
  },
  "cells": [
    {
      "cell_type": "code",
      "metadata": {
        "id": "tw8fPULcQ2sz",
        "colab_type": "code",
        "outputId": "f9922347-6a60-40dd-da16-580927446485",
        "colab": {
          "base_uri": "https://localhost:8080/",
          "height": 122
        }
      },
      "source": [
        "from google.colab import drive\n",
        "drive.mount('/content/drive')"
      ],
      "execution_count": 0,
      "outputs": [
        {
          "output_type": "stream",
          "text": [
            "Go to this URL in a browser: https://accounts.google.com/o/oauth2/auth?client_id=947318989803-6bn6qk8qdgf4n4g3pfee6491hc0brc4i.apps.googleusercontent.com&redirect_uri=urn%3aietf%3awg%3aoauth%3a2.0%3aoob&response_type=code&scope=email%20https%3a%2f%2fwww.googleapis.com%2fauth%2fdocs.test%20https%3a%2f%2fwww.googleapis.com%2fauth%2fdrive%20https%3a%2f%2fwww.googleapis.com%2fauth%2fdrive.photos.readonly%20https%3a%2f%2fwww.googleapis.com%2fauth%2fpeopleapi.readonly\n",
            "\n",
            "Enter your authorization code:\n",
            "··········\n",
            "Mounted at /content/drive\n"
          ],
          "name": "stdout"
        }
      ]
    },
    {
      "cell_type": "code",
      "metadata": {
        "id": "vzTufQ5EQ4fU",
        "colab_type": "code",
        "outputId": "84b54219-a9aa-4a76-8bd0-43c9fda41da3",
        "colab": {
          "base_uri": "https://localhost:8080/",
          "height": 1000
        }
      },
      "source": [
        "# !cd '/content/drive/My Drive/Colab Notebooks/COMP596/project' && git clone https://github.com/stellargraph/stellargraph.git\n",
        "!cd '/content/drive/My Drive/Colab Notebooks/COMP596/project/stellargraph' && pip3 install .\n",
        "!cd '/content/drive/My Drive/Colab Notebooks/COMP596/project/stellargraph' && pip3 install .[demos]\n",
        "# !pip3 install stellargraph\n",
        "# !pip3 install stellargraph[link-prediction]\n",
        "import sys\n",
        "sys.path.append('/content/drive/My Drive/Colab Notebooks/COMP596/project/utils')"
      ],
      "execution_count": 0,
      "outputs": [
        {
          "output_type": "stream",
          "text": [
            "Processing /content/drive/My Drive/Colab Notebooks/COMP596/project/stellargraph\n",
            "Collecting tensorflow<1.15,>=1.14\n",
            "\u001b[?25l  Downloading https://files.pythonhosted.org/packages/de/f0/96fb2e0412ae9692dbf400e5b04432885f677ad6241c088ccc5fe7724d69/tensorflow-1.14.0-cp36-cp36m-manylinux1_x86_64.whl (109.2MB)\n",
            "\u001b[K     |████████████████████████████████| 109.2MB 113kB/s \n",
            "\u001b[?25hRequirement already satisfied: numpy>=1.14 in /usr/local/lib/python3.6/dist-packages (from stellargraph==0.9.0b0) (1.17.4)\n",
            "Requirement already satisfied: scipy>=1.1.0 in /usr/local/lib/python3.6/dist-packages (from stellargraph==0.9.0b0) (1.3.3)\n",
            "Requirement already satisfied: networkx>=2.2 in /usr/local/lib/python3.6/dist-packages (from stellargraph==0.9.0b0) (2.4)\n",
            "Requirement already satisfied: scikit_learn>=0.20 in /usr/local/lib/python3.6/dist-packages (from stellargraph==0.9.0b0) (0.21.3)\n",
            "Requirement already satisfied: matplotlib>=2.2 in /usr/local/lib/python3.6/dist-packages (from stellargraph==0.9.0b0) (3.1.2)\n",
            "Requirement already satisfied: gensim>=3.4.0 in /usr/local/lib/python3.6/dist-packages (from stellargraph==0.9.0b0) (3.6.0)\n",
            "Requirement already satisfied: pandas>=0.24 in /usr/local/lib/python3.6/dist-packages (from stellargraph==0.9.0b0) (0.25.3)\n",
            "Requirement already satisfied: wrapt>=1.11.1 in /usr/local/lib/python3.6/dist-packages (from tensorflow<1.15,>=1.14->stellargraph==0.9.0b0) (1.11.2)\n",
            "Requirement already satisfied: astor>=0.6.0 in /usr/local/lib/python3.6/dist-packages (from tensorflow<1.15,>=1.14->stellargraph==0.9.0b0) (0.8.0)\n",
            "Requirement already satisfied: grpcio>=1.8.6 in /usr/local/lib/python3.6/dist-packages (from tensorflow<1.15,>=1.14->stellargraph==0.9.0b0) (1.15.0)\n",
            "Requirement already satisfied: gast>=0.2.0 in /usr/local/lib/python3.6/dist-packages (from tensorflow<1.15,>=1.14->stellargraph==0.9.0b0) (0.2.2)\n",
            "Requirement already satisfied: termcolor>=1.1.0 in /usr/local/lib/python3.6/dist-packages (from tensorflow<1.15,>=1.14->stellargraph==0.9.0b0) (1.1.0)\n",
            "Requirement already satisfied: wheel>=0.26 in /usr/local/lib/python3.6/dist-packages (from tensorflow<1.15,>=1.14->stellargraph==0.9.0b0) (0.33.6)\n",
            "Requirement already satisfied: google-pasta>=0.1.6 in /usr/local/lib/python3.6/dist-packages (from tensorflow<1.15,>=1.14->stellargraph==0.9.0b0) (0.1.8)\n",
            "Requirement already satisfied: protobuf>=3.6.1 in /usr/local/lib/python3.6/dist-packages (from tensorflow<1.15,>=1.14->stellargraph==0.9.0b0) (3.10.0)\n",
            "Collecting tensorboard<1.15.0,>=1.14.0\n",
            "\u001b[?25l  Downloading https://files.pythonhosted.org/packages/91/2d/2ed263449a078cd9c8a9ba50ebd50123adf1f8cfbea1492f9084169b89d9/tensorboard-1.14.0-py3-none-any.whl (3.1MB)\n",
            "\u001b[K     |████████████████████████████████| 3.2MB 30.6MB/s \n",
            "\u001b[?25hRequirement already satisfied: keras-applications>=1.0.6 in /usr/local/lib/python3.6/dist-packages (from tensorflow<1.15,>=1.14->stellargraph==0.9.0b0) (1.0.8)\n",
            "Requirement already satisfied: six>=1.10.0 in /usr/local/lib/python3.6/dist-packages (from tensorflow<1.15,>=1.14->stellargraph==0.9.0b0) (1.12.0)\n",
            "Requirement already satisfied: keras-preprocessing>=1.0.5 in /usr/local/lib/python3.6/dist-packages (from tensorflow<1.15,>=1.14->stellargraph==0.9.0b0) (1.1.0)\n",
            "Collecting tensorflow-estimator<1.15.0rc0,>=1.14.0rc0\n",
            "\u001b[?25l  Downloading https://files.pythonhosted.org/packages/3c/d5/21860a5b11caf0678fbc8319341b0ae21a07156911132e0e71bffed0510d/tensorflow_estimator-1.14.0-py2.py3-none-any.whl (488kB)\n",
            "\u001b[K     |████████████████████████████████| 491kB 47.1MB/s \n",
            "\u001b[?25hRequirement already satisfied: absl-py>=0.7.0 in /usr/local/lib/python3.6/dist-packages (from tensorflow<1.15,>=1.14->stellargraph==0.9.0b0) (0.8.1)\n",
            "Requirement already satisfied: decorator>=4.3.0 in /usr/local/lib/python3.6/dist-packages (from networkx>=2.2->stellargraph==0.9.0b0) (4.4.1)\n",
            "Requirement already satisfied: joblib>=0.11 in /usr/local/lib/python3.6/dist-packages (from scikit_learn>=0.20->stellargraph==0.9.0b0) (0.14.0)\n",
            "Requirement already satisfied: kiwisolver>=1.0.1 in /usr/local/lib/python3.6/dist-packages (from matplotlib>=2.2->stellargraph==0.9.0b0) (1.1.0)\n",
            "Requirement already satisfied: pyparsing!=2.0.4,!=2.1.2,!=2.1.6,>=2.0.1 in /usr/local/lib/python3.6/dist-packages (from matplotlib>=2.2->stellargraph==0.9.0b0) (2.4.5)\n",
            "Requirement already satisfied: python-dateutil>=2.1 in /usr/local/lib/python3.6/dist-packages (from matplotlib>=2.2->stellargraph==0.9.0b0) (2.6.1)\n",
            "Requirement already satisfied: cycler>=0.10 in /usr/local/lib/python3.6/dist-packages (from matplotlib>=2.2->stellargraph==0.9.0b0) (0.10.0)\n",
            "Requirement already satisfied: smart-open>=1.2.1 in /usr/local/lib/python3.6/dist-packages (from gensim>=3.4.0->stellargraph==0.9.0b0) (1.9.0)\n",
            "Requirement already satisfied: pytz>=2017.2 in /usr/local/lib/python3.6/dist-packages (from pandas>=0.24->stellargraph==0.9.0b0) (2018.9)\n",
            "Requirement already satisfied: setuptools in /usr/local/lib/python3.6/dist-packages (from protobuf>=3.6.1->tensorflow<1.15,>=1.14->stellargraph==0.9.0b0) (42.0.1)\n",
            "Requirement already satisfied: werkzeug>=0.11.15 in /usr/local/lib/python3.6/dist-packages (from tensorboard<1.15.0,>=1.14.0->tensorflow<1.15,>=1.14->stellargraph==0.9.0b0) (0.16.0)\n",
            "Requirement already satisfied: markdown>=2.6.8 in /usr/local/lib/python3.6/dist-packages (from tensorboard<1.15.0,>=1.14.0->tensorflow<1.15,>=1.14->stellargraph==0.9.0b0) (3.1.1)\n",
            "Requirement already satisfied: h5py in /usr/local/lib/python3.6/dist-packages (from keras-applications>=1.0.6->tensorflow<1.15,>=1.14->stellargraph==0.9.0b0) (2.8.0)\n",
            "Requirement already satisfied: boto3 in /usr/local/lib/python3.6/dist-packages (from smart-open>=1.2.1->gensim>=3.4.0->stellargraph==0.9.0b0) (1.10.27)\n",
            "Requirement already satisfied: boto>=2.32 in /usr/local/lib/python3.6/dist-packages (from smart-open>=1.2.1->gensim>=3.4.0->stellargraph==0.9.0b0) (2.49.0)\n",
            "Requirement already satisfied: requests in /usr/local/lib/python3.6/dist-packages (from smart-open>=1.2.1->gensim>=3.4.0->stellargraph==0.9.0b0) (2.21.0)\n",
            "Requirement already satisfied: s3transfer<0.3.0,>=0.2.0 in /usr/local/lib/python3.6/dist-packages (from boto3->smart-open>=1.2.1->gensim>=3.4.0->stellargraph==0.9.0b0) (0.2.1)\n",
            "Requirement already satisfied: jmespath<1.0.0,>=0.7.1 in /usr/local/lib/python3.6/dist-packages (from boto3->smart-open>=1.2.1->gensim>=3.4.0->stellargraph==0.9.0b0) (0.9.4)\n",
            "Requirement already satisfied: botocore<1.14.0,>=1.13.27 in /usr/local/lib/python3.6/dist-packages (from boto3->smart-open>=1.2.1->gensim>=3.4.0->stellargraph==0.9.0b0) (1.13.27)\n",
            "Requirement already satisfied: urllib3<1.25,>=1.21.1 in /usr/local/lib/python3.6/dist-packages (from requests->smart-open>=1.2.1->gensim>=3.4.0->stellargraph==0.9.0b0) (1.24.3)\n",
            "Requirement already satisfied: chardet<3.1.0,>=3.0.2 in /usr/local/lib/python3.6/dist-packages (from requests->smart-open>=1.2.1->gensim>=3.4.0->stellargraph==0.9.0b0) (3.0.4)\n",
            "Requirement already satisfied: certifi>=2017.4.17 in /usr/local/lib/python3.6/dist-packages (from requests->smart-open>=1.2.1->gensim>=3.4.0->stellargraph==0.9.0b0) (2019.9.11)\n",
            "Requirement already satisfied: idna<2.9,>=2.5 in /usr/local/lib/python3.6/dist-packages (from requests->smart-open>=1.2.1->gensim>=3.4.0->stellargraph==0.9.0b0) (2.8)\n",
            "Requirement already satisfied: docutils<0.16,>=0.10 in /usr/local/lib/python3.6/dist-packages (from botocore<1.14.0,>=1.13.27->boto3->smart-open>=1.2.1->gensim>=3.4.0->stellargraph==0.9.0b0) (0.15.2)\n",
            "Building wheels for collected packages: stellargraph\n",
            "  Building wheel for stellargraph (setup.py) ... \u001b[?25l\u001b[?25hdone\n",
            "  Created wheel for stellargraph: filename=stellargraph-0.9.0b0-cp36-none-any.whl size=180400 sha256=e33907bd0ac95d0d4e3ef76706daea3d8160ddc10916e8a4e9fedac88bb8d87b\n",
            "  Stored in directory: /tmp/pip-ephem-wheel-cache-e0puy9f4/wheels/f9/3e/88/02cbb1e1461628624b4d33f2a263bbe06bc8a9ceff4aaccd0c\n",
            "Successfully built stellargraph\n",
            "Installing collected packages: tensorboard, tensorflow-estimator, tensorflow, stellargraph\n",
            "  Found existing installation: tensorboard 1.15.0\n",
            "    Uninstalling tensorboard-1.15.0:\n",
            "      Successfully uninstalled tensorboard-1.15.0\n",
            "  Found existing installation: tensorflow-estimator 1.15.1\n",
            "    Uninstalling tensorflow-estimator-1.15.1:\n",
            "      Successfully uninstalled tensorflow-estimator-1.15.1\n",
            "  Found existing installation: tensorflow 1.15.0\n",
            "    Uninstalling tensorflow-1.15.0:\n",
            "      Successfully uninstalled tensorflow-1.15.0\n",
            "Successfully installed stellargraph-0.9.0b0 tensorboard-1.14.0 tensorflow-1.14.0 tensorflow-estimator-1.14.0\n",
            "Processing /content/drive/My Drive/Colab Notebooks/COMP596/project/stellargraph\n",
            "Requirement already satisfied: tensorflow<1.15,>=1.14 in /usr/local/lib/python3.6/dist-packages (from stellargraph==0.9.0b0) (1.14.0)\n",
            "Requirement already satisfied: numpy>=1.14 in /usr/local/lib/python3.6/dist-packages (from stellargraph==0.9.0b0) (1.17.4)\n",
            "Requirement already satisfied: scipy>=1.1.0 in /usr/local/lib/python3.6/dist-packages (from stellargraph==0.9.0b0) (1.3.3)\n",
            "Requirement already satisfied: networkx>=2.2 in /usr/local/lib/python3.6/dist-packages (from stellargraph==0.9.0b0) (2.4)\n",
            "Requirement already satisfied: scikit_learn>=0.20 in /usr/local/lib/python3.6/dist-packages (from stellargraph==0.9.0b0) (0.21.3)\n",
            "Requirement already satisfied: matplotlib>=2.2 in /usr/local/lib/python3.6/dist-packages (from stellargraph==0.9.0b0) (3.1.2)\n",
            "Requirement already satisfied: gensim>=3.4.0 in /usr/local/lib/python3.6/dist-packages (from stellargraph==0.9.0b0) (3.6.0)\n",
            "Requirement already satisfied: pandas>=0.24 in /usr/local/lib/python3.6/dist-packages (from stellargraph==0.9.0b0) (0.25.3)\n",
            "Requirement already satisfied: numba in /usr/local/lib/python3.6/dist-packages (from stellargraph==0.9.0b0) (0.40.1)\n",
            "Requirement already satisfied: jupyter in /usr/local/lib/python3.6/dist-packages (from stellargraph==0.9.0b0) (1.0.0)\n",
            "Requirement already satisfied: seaborn in /usr/local/lib/python3.6/dist-packages (from stellargraph==0.9.0b0) (0.9.0)\n",
            "Requirement already satisfied: google-pasta>=0.1.6 in /usr/local/lib/python3.6/dist-packages (from tensorflow<1.15,>=1.14->stellargraph==0.9.0b0) (0.1.8)\n",
            "Requirement already satisfied: gast>=0.2.0 in /usr/local/lib/python3.6/dist-packages (from tensorflow<1.15,>=1.14->stellargraph==0.9.0b0) (0.2.2)\n",
            "Requirement already satisfied: six>=1.10.0 in /usr/local/lib/python3.6/dist-packages (from tensorflow<1.15,>=1.14->stellargraph==0.9.0b0) (1.12.0)\n",
            "Requirement already satisfied: protobuf>=3.6.1 in /usr/local/lib/python3.6/dist-packages (from tensorflow<1.15,>=1.14->stellargraph==0.9.0b0) (3.10.0)\n",
            "Requirement already satisfied: tensorboard<1.15.0,>=1.14.0 in /usr/local/lib/python3.6/dist-packages (from tensorflow<1.15,>=1.14->stellargraph==0.9.0b0) (1.14.0)\n",
            "Requirement already satisfied: tensorflow-estimator<1.15.0rc0,>=1.14.0rc0 in /usr/local/lib/python3.6/dist-packages (from tensorflow<1.15,>=1.14->stellargraph==0.9.0b0) (1.14.0)\n",
            "Requirement already satisfied: grpcio>=1.8.6 in /usr/local/lib/python3.6/dist-packages (from tensorflow<1.15,>=1.14->stellargraph==0.9.0b0) (1.15.0)\n",
            "Requirement already satisfied: wrapt>=1.11.1 in /usr/local/lib/python3.6/dist-packages (from tensorflow<1.15,>=1.14->stellargraph==0.9.0b0) (1.11.2)\n",
            "Requirement already satisfied: keras-applications>=1.0.6 in /usr/local/lib/python3.6/dist-packages (from tensorflow<1.15,>=1.14->stellargraph==0.9.0b0) (1.0.8)\n",
            "Requirement already satisfied: absl-py>=0.7.0 in /usr/local/lib/python3.6/dist-packages (from tensorflow<1.15,>=1.14->stellargraph==0.9.0b0) (0.8.1)\n",
            "Requirement already satisfied: keras-preprocessing>=1.0.5 in /usr/local/lib/python3.6/dist-packages (from tensorflow<1.15,>=1.14->stellargraph==0.9.0b0) (1.1.0)\n",
            "Requirement already satisfied: termcolor>=1.1.0 in /usr/local/lib/python3.6/dist-packages (from tensorflow<1.15,>=1.14->stellargraph==0.9.0b0) (1.1.0)\n",
            "Requirement already satisfied: wheel>=0.26 in /usr/local/lib/python3.6/dist-packages (from tensorflow<1.15,>=1.14->stellargraph==0.9.0b0) (0.33.6)\n",
            "Requirement already satisfied: astor>=0.6.0 in /usr/local/lib/python3.6/dist-packages (from tensorflow<1.15,>=1.14->stellargraph==0.9.0b0) (0.8.0)\n",
            "Requirement already satisfied: decorator>=4.3.0 in /usr/local/lib/python3.6/dist-packages (from networkx>=2.2->stellargraph==0.9.0b0) (4.4.1)\n",
            "Requirement already satisfied: joblib>=0.11 in /usr/local/lib/python3.6/dist-packages (from scikit_learn>=0.20->stellargraph==0.9.0b0) (0.14.0)\n",
            "Requirement already satisfied: python-dateutil>=2.1 in /usr/local/lib/python3.6/dist-packages (from matplotlib>=2.2->stellargraph==0.9.0b0) (2.6.1)\n",
            "Requirement already satisfied: pyparsing!=2.0.4,!=2.1.2,!=2.1.6,>=2.0.1 in /usr/local/lib/python3.6/dist-packages (from matplotlib>=2.2->stellargraph==0.9.0b0) (2.4.5)\n",
            "Requirement already satisfied: cycler>=0.10 in /usr/local/lib/python3.6/dist-packages (from matplotlib>=2.2->stellargraph==0.9.0b0) (0.10.0)\n",
            "Requirement already satisfied: kiwisolver>=1.0.1 in /usr/local/lib/python3.6/dist-packages (from matplotlib>=2.2->stellargraph==0.9.0b0) (1.1.0)\n",
            "Requirement already satisfied: smart-open>=1.2.1 in /usr/local/lib/python3.6/dist-packages (from gensim>=3.4.0->stellargraph==0.9.0b0) (1.9.0)\n",
            "Requirement already satisfied: pytz>=2017.2 in /usr/local/lib/python3.6/dist-packages (from pandas>=0.24->stellargraph==0.9.0b0) (2018.9)\n",
            "Requirement already satisfied: llvmlite>=0.25.0dev0 in /usr/local/lib/python3.6/dist-packages (from numba->stellargraph==0.9.0b0) (0.30.0)\n",
            "Requirement already satisfied: ipywidgets in /usr/local/lib/python3.6/dist-packages (from jupyter->stellargraph==0.9.0b0) (7.5.1)\n",
            "Requirement already satisfied: nbconvert in /usr/local/lib/python3.6/dist-packages (from jupyter->stellargraph==0.9.0b0) (5.6.1)\n",
            "Requirement already satisfied: notebook in /usr/local/lib/python3.6/dist-packages (from jupyter->stellargraph==0.9.0b0) (5.2.2)\n",
            "Requirement already satisfied: ipykernel in /usr/local/lib/python3.6/dist-packages (from jupyter->stellargraph==0.9.0b0) (4.6.1)\n",
            "Requirement already satisfied: qtconsole in /usr/local/lib/python3.6/dist-packages (from jupyter->stellargraph==0.9.0b0) (4.6.0)\n",
            "Requirement already satisfied: jupyter-console in /usr/local/lib/python3.6/dist-packages (from jupyter->stellargraph==0.9.0b0) (5.2.0)\n",
            "Requirement already satisfied: setuptools in /usr/local/lib/python3.6/dist-packages (from protobuf>=3.6.1->tensorflow<1.15,>=1.14->stellargraph==0.9.0b0) (42.0.1)\n",
            "Requirement already satisfied: markdown>=2.6.8 in /usr/local/lib/python3.6/dist-packages (from tensorboard<1.15.0,>=1.14.0->tensorflow<1.15,>=1.14->stellargraph==0.9.0b0) (3.1.1)\n",
            "Requirement already satisfied: werkzeug>=0.11.15 in /usr/local/lib/python3.6/dist-packages (from tensorboard<1.15.0,>=1.14.0->tensorflow<1.15,>=1.14->stellargraph==0.9.0b0) (0.16.0)\n",
            "Requirement already satisfied: h5py in /usr/local/lib/python3.6/dist-packages (from keras-applications>=1.0.6->tensorflow<1.15,>=1.14->stellargraph==0.9.0b0) (2.8.0)\n",
            "Requirement already satisfied: requests in /usr/local/lib/python3.6/dist-packages (from smart-open>=1.2.1->gensim>=3.4.0->stellargraph==0.9.0b0) (2.21.0)\n",
            "Requirement already satisfied: boto>=2.32 in /usr/local/lib/python3.6/dist-packages (from smart-open>=1.2.1->gensim>=3.4.0->stellargraph==0.9.0b0) (2.49.0)\n",
            "Requirement already satisfied: boto3 in /usr/local/lib/python3.6/dist-packages (from smart-open>=1.2.1->gensim>=3.4.0->stellargraph==0.9.0b0) (1.10.27)\n",
            "Requirement already satisfied: ipython>=4.0.0; python_version >= \"3.3\" in /usr/local/lib/python3.6/dist-packages (from ipywidgets->jupyter->stellargraph==0.9.0b0) (5.5.0)\n",
            "Requirement already satisfied: nbformat>=4.2.0 in /usr/local/lib/python3.6/dist-packages (from ipywidgets->jupyter->stellargraph==0.9.0b0) (4.4.0)\n",
            "Requirement already satisfied: traitlets>=4.3.1 in /usr/local/lib/python3.6/dist-packages (from ipywidgets->jupyter->stellargraph==0.9.0b0) (4.3.3)\n",
            "Requirement already satisfied: widgetsnbextension~=3.5.0 in /usr/local/lib/python3.6/dist-packages (from ipywidgets->jupyter->stellargraph==0.9.0b0) (3.5.1)\n",
            "Requirement already satisfied: pandocfilters>=1.4.1 in /usr/local/lib/python3.6/dist-packages (from nbconvert->jupyter->stellargraph==0.9.0b0) (1.4.2)\n",
            "Requirement already satisfied: entrypoints>=0.2.2 in /usr/local/lib/python3.6/dist-packages (from nbconvert->jupyter->stellargraph==0.9.0b0) (0.3)\n",
            "Requirement already satisfied: testpath in /usr/local/lib/python3.6/dist-packages (from nbconvert->jupyter->stellargraph==0.9.0b0) (0.4.4)\n",
            "Requirement already satisfied: bleach in /usr/local/lib/python3.6/dist-packages (from nbconvert->jupyter->stellargraph==0.9.0b0) (3.1.0)\n",
            "Requirement already satisfied: jinja2>=2.4 in /usr/local/lib/python3.6/dist-packages (from nbconvert->jupyter->stellargraph==0.9.0b0) (2.10.3)\n",
            "Requirement already satisfied: mistune<2,>=0.8.1 in /usr/local/lib/python3.6/dist-packages (from nbconvert->jupyter->stellargraph==0.9.0b0) (0.8.4)\n",
            "Requirement already satisfied: jupyter-core in /usr/local/lib/python3.6/dist-packages (from nbconvert->jupyter->stellargraph==0.9.0b0) (4.6.1)\n",
            "Requirement already satisfied: defusedxml in /usr/local/lib/python3.6/dist-packages (from nbconvert->jupyter->stellargraph==0.9.0b0) (0.6.0)\n",
            "Requirement already satisfied: pygments in /usr/local/lib/python3.6/dist-packages (from nbconvert->jupyter->stellargraph==0.9.0b0) (2.1.3)\n",
            "Requirement already satisfied: terminado>=0.3.3; sys_platform != \"win32\" in /usr/local/lib/python3.6/dist-packages (from notebook->jupyter->stellargraph==0.9.0b0) (0.8.3)\n",
            "Requirement already satisfied: ipython-genutils in /usr/local/lib/python3.6/dist-packages (from notebook->jupyter->stellargraph==0.9.0b0) (0.2.0)\n",
            "Requirement already satisfied: jupyter-client in /usr/local/lib/python3.6/dist-packages (from notebook->jupyter->stellargraph==0.9.0b0) (5.3.4)\n",
            "Requirement already satisfied: tornado>=4 in /usr/local/lib/python3.6/dist-packages (from notebook->jupyter->stellargraph==0.9.0b0) (4.5.3)\n",
            "Requirement already satisfied: prompt-toolkit<2.0.0,>=1.0.0 in /usr/local/lib/python3.6/dist-packages (from jupyter-console->jupyter->stellargraph==0.9.0b0) (1.0.18)\n",
            "Requirement already satisfied: chardet<3.1.0,>=3.0.2 in /usr/local/lib/python3.6/dist-packages (from requests->smart-open>=1.2.1->gensim>=3.4.0->stellargraph==0.9.0b0) (3.0.4)\n",
            "Requirement already satisfied: urllib3<1.25,>=1.21.1 in /usr/local/lib/python3.6/dist-packages (from requests->smart-open>=1.2.1->gensim>=3.4.0->stellargraph==0.9.0b0) (1.24.3)\n",
            "Requirement already satisfied: idna<2.9,>=2.5 in /usr/local/lib/python3.6/dist-packages (from requests->smart-open>=1.2.1->gensim>=3.4.0->stellargraph==0.9.0b0) (2.8)\n",
            "Requirement already satisfied: certifi>=2017.4.17 in /usr/local/lib/python3.6/dist-packages (from requests->smart-open>=1.2.1->gensim>=3.4.0->stellargraph==0.9.0b0) (2019.9.11)\n",
            "Requirement already satisfied: s3transfer<0.3.0,>=0.2.0 in /usr/local/lib/python3.6/dist-packages (from boto3->smart-open>=1.2.1->gensim>=3.4.0->stellargraph==0.9.0b0) (0.2.1)\n",
            "Requirement already satisfied: jmespath<1.0.0,>=0.7.1 in /usr/local/lib/python3.6/dist-packages (from boto3->smart-open>=1.2.1->gensim>=3.4.0->stellargraph==0.9.0b0) (0.9.4)\n",
            "Requirement already satisfied: botocore<1.14.0,>=1.13.27 in /usr/local/lib/python3.6/dist-packages (from boto3->smart-open>=1.2.1->gensim>=3.4.0->stellargraph==0.9.0b0) (1.13.27)\n",
            "Requirement already satisfied: pexpect; sys_platform != \"win32\" in /usr/local/lib/python3.6/dist-packages (from ipython>=4.0.0; python_version >= \"3.3\"->ipywidgets->jupyter->stellargraph==0.9.0b0) (4.7.0)\n",
            "Requirement already satisfied: pickleshare in /usr/local/lib/python3.6/dist-packages (from ipython>=4.0.0; python_version >= \"3.3\"->ipywidgets->jupyter->stellargraph==0.9.0b0) (0.7.5)\n",
            "Requirement already satisfied: simplegeneric>0.8 in /usr/local/lib/python3.6/dist-packages (from ipython>=4.0.0; python_version >= \"3.3\"->ipywidgets->jupyter->stellargraph==0.9.0b0) (0.8.1)\n",
            "Requirement already satisfied: jsonschema!=2.5.0,>=2.4 in /usr/local/lib/python3.6/dist-packages (from nbformat>=4.2.0->ipywidgets->jupyter->stellargraph==0.9.0b0) (2.6.0)\n",
            "Requirement already satisfied: webencodings in /usr/local/lib/python3.6/dist-packages (from bleach->nbconvert->jupyter->stellargraph==0.9.0b0) (0.5.1)\n",
            "Requirement already satisfied: MarkupSafe>=0.23 in /usr/local/lib/python3.6/dist-packages (from jinja2>=2.4->nbconvert->jupyter->stellargraph==0.9.0b0) (1.1.1)\n",
            "Requirement already satisfied: ptyprocess; os_name != \"nt\" in /usr/local/lib/python3.6/dist-packages (from terminado>=0.3.3; sys_platform != \"win32\"->notebook->jupyter->stellargraph==0.9.0b0) (0.6.0)\n",
            "Requirement already satisfied: pyzmq>=13 in /usr/local/lib/python3.6/dist-packages (from jupyter-client->notebook->jupyter->stellargraph==0.9.0b0) (17.0.0)\n",
            "Requirement already satisfied: wcwidth in /usr/local/lib/python3.6/dist-packages (from prompt-toolkit<2.0.0,>=1.0.0->jupyter-console->jupyter->stellargraph==0.9.0b0) (0.1.7)\n",
            "Requirement already satisfied: docutils<0.16,>=0.10 in /usr/local/lib/python3.6/dist-packages (from botocore<1.14.0,>=1.13.27->boto3->smart-open>=1.2.1->gensim>=3.4.0->stellargraph==0.9.0b0) (0.15.2)\n",
            "Building wheels for collected packages: stellargraph\n",
            "  Building wheel for stellargraph (setup.py) ... \u001b[?25l\u001b[?25hdone\n",
            "  Created wheel for stellargraph: filename=stellargraph-0.9.0b0-cp36-none-any.whl size=180400 sha256=4ad1b13d242f2879b3413cfdc59ba9b0fcac151d98ccd73bf9aed4352a96f725\n",
            "  Stored in directory: /tmp/pip-ephem-wheel-cache-1d4cq4hj/wheels/f9/3e/88/02cbb1e1461628624b4d33f2a263bbe06bc8a9ceff4aaccd0c\n",
            "Successfully built stellargraph\n",
            "Installing collected packages: stellargraph\n",
            "  Found existing installation: stellargraph 0.9.0b0\n",
            "    Uninstalling stellargraph-0.9.0b0:\n",
            "      Successfully uninstalled stellargraph-0.9.0b0\n",
            "Successfully installed stellargraph-0.9.0b0\n"
          ],
          "name": "stdout"
        }
      ]
    },
    {
      "cell_type": "code",
      "metadata": {
        "id": "yz6j4pgNQ1if",
        "colab_type": "code",
        "outputId": "5763e27d-4d98-492b-e468-492e5217c1c9",
        "colab": {
          "base_uri": "https://localhost:8080/",
          "height": 63
        }
      },
      "source": [
        "# if you want to suppress warnings \n",
        "import warnings\n",
        "warnings.filterwarnings(\"ignore\")\n",
        "\n",
        "import os\n",
        "import random\n",
        "from operator import itemgetter\n",
        "\n",
        "import pandas as pd\n",
        "import numpy as np\n",
        "import matplotlib.pyplot as plt\n",
        "from tqdm import tqdm, tqdm_notebook\n",
        "from scipy import sparse\n",
        "\n",
        "from sklearn import metrics\n",
        "from sklearn.metrics import roc_auc_score, roc_curve, mean_absolute_error, mean_squared_error\n",
        "from sklearn import preprocessing, feature_extraction, model_selection\n",
        "\n",
        "import networkx as nx\n",
        "from networkx.algorithms import bipartite\n",
        "\n",
        "import stellargraph as sg\n",
        "from stellargraph.mapper import HinSAGELinkGenerator\n",
        "from stellargraph.layer import HinSAGE, link_classification\n",
        "from tensorflow.keras import Model, optimizers, losses\n",
        "from tensorflow.keras import metrics as keras_metrics\n",
        "\n",
        "import multiprocessing\n",
        "\n",
        "PROJECT_DIR = os.path.abspath('/content/drive/My Drive/Colab Notebooks/COMP596/project')\n",
        "DATA_DIR = os.path.join(PROJECT_DIR, 'data')\n",
        "ML_1M_DIR = os.path.join(DATA_DIR, 'ml-1m')"
      ],
      "execution_count": 0,
      "outputs": [
        {
          "output_type": "display_data",
          "data": {
            "text/html": [
              "<p style=\"color: red;\">\n",
              "The default version of TensorFlow in Colab will soon switch to TensorFlow 2.x.<br>\n",
              "We recommend you <a href=\"https://www.tensorflow.org/guide/migrate\" target=\"_blank\">upgrade</a> now \n",
              "or ensure your notebook will continue to use TensorFlow 1.x via the <code>%tensorflow_version 1.x</code> magic:\n",
              "<a href=\"https://colab.research.google.com/notebooks/tensorflow_version.ipynb\" target=\"_blank\">more info</a>.</p>\n"
            ],
            "text/plain": [
              "<IPython.core.display.HTML object>"
            ]
          },
          "metadata": {
            "tags": []
          }
        }
      ]
    },
    {
      "cell_type": "code",
      "metadata": {
        "id": "nuTmjS2nQ1ik",
        "colab_type": "code",
        "colab": {}
      },
      "source": [
        "from utils import create_movielens_graph, load_movies_formatted, apply_features, load_users, delete_bipartite_attribute, sample, create_user_features"
      ],
      "execution_count": 0,
      "outputs": []
    },
    {
      "cell_type": "code",
      "metadata": {
        "id": "qp53J7bnQ1in",
        "colab_type": "code",
        "outputId": "ab73676a-e8ea-45c4-f879-3725849e8e26",
        "colab": {
          "base_uri": "https://localhost:8080/",
          "height": 66,
          "referenced_widgets": [
            "203c613ccd704198ae78ec8a0a4083cf",
            "8dfc517a12494fb1ac7d385fa4a83a31",
            "cc030da6531245709205fa99eef22b3f",
            "af236958173b471e839d3ab6aef19203",
            "635fc31a42a1498fa744d749d4a4137c",
            "02ad5300a6e446df983abd61423e4bc8",
            "cf6aa86a790b4778a8972a106ffcdefa",
            "7b0acd47b30846dbb4291a347e2caf8e"
          ]
        }
      },
      "source": [
        "graph = create_movielens_graph(ML_1M_DIR)"
      ],
      "execution_count": 0,
      "outputs": [
        {
          "output_type": "display_data",
          "data": {
            "application/vnd.jupyter.widget-view+json": {
              "model_id": "203c613ccd704198ae78ec8a0a4083cf",
              "version_minor": 0,
              "version_major": 2
            },
            "text/plain": [
              "HBox(children=(IntProgress(value=1, bar_style='info', description='Creating graph from rating chunks', max=1, …"
            ]
          },
          "metadata": {
            "tags": []
          }
        },
        {
          "output_type": "stream",
          "text": [
            "\n"
          ],
          "name": "stdout"
        }
      ]
    },
    {
      "cell_type": "code",
      "metadata": {
        "id": "zAB5X4_LQ1iq",
        "colab_type": "code",
        "colab": {}
      },
      "source": [
        "user_df = load_users(ML_1M_DIR)\n",
        "user_features = create_user_features(user_df)\n",
        "movie_features = load_movies_formatted(ML_1M_DIR)"
      ],
      "execution_count": 0,
      "outputs": []
    },
    {
      "cell_type": "code",
      "metadata": {
        "id": "nHh5-wkNQ1it",
        "colab_type": "code",
        "colab": {}
      },
      "source": [
        "graph = apply_features(graph, user_features, bipartite_set='u')\n",
        "graph = apply_features(graph, movie_features, bipartite_set='m')\n",
        "del user_features, movie_features"
      ],
      "execution_count": 0,
      "outputs": []
    },
    {
      "cell_type": "code",
      "metadata": {
        "id": "MPIU0s_4Q1iv",
        "colab_type": "code",
        "colab": {}
      },
      "source": [
        "users, movies = bipartite.sets(graph)\n",
        "non_edges = [edge for edge in list(nx.non_edges(graph)) if edge[0] in users and edge[1] in movies]\n",
        "sampled_non_edges = sample(non_edges, num_samples=graph.number_of_edges())\n",
        "sampled_non_edges = [(edge[0], edge[1], {'rating': 0}) for edge in sampled_non_edges]\n",
        "\n",
        "edges = list(graph.edges(data=True))\n",
        "edges.extend(sampled_non_edges)\n",
        "del non_edges, sampled_non_edges"
      ],
      "execution_count": 0,
      "outputs": []
    },
    {
      "cell_type": "code",
      "metadata": {
        "id": "hhWJQS9JQ1iz",
        "colab_type": "code",
        "colab": {}
      },
      "source": [
        "edges = [(edge[0], edge[1], {'rating': 1 if edge[2]['rating'] > 0 else 0}) for edge in edges]"
      ],
      "execution_count": 0,
      "outputs": []
    },
    {
      "cell_type": "code",
      "metadata": {
        "id": "Fab0-uV_Q1i1",
        "colab_type": "code",
        "colab": {}
      },
      "source": [
        "# 80% Train, 10% Val, 10% Test\n",
        "edges_train, edges_test = model_selection.train_test_split(edges, train_size=0.8, random_state=42)\n",
        "edges_val, edges_test = model_selection.train_test_split(edges_test, train_size=0.5, random_state=42)\n",
        "\n",
        "edgelist_train = [(e[0],e[1]) for e in edges_train]\n",
        "edgelist_val = [(e[0],e[1]) for e in edges_val]\n",
        "edgelist_test = [(e[0],e[1]) for e in edges_test]\n",
        "\n",
        "labels_train = [e[2][\"rating\"] for e in edges_train]\n",
        "labels_val = [e[2][\"rating\"] for e in edges_val]\n",
        "labels_test = [e[2][\"rating\"] for e in edges_test]"
      ],
      "execution_count": 0,
      "outputs": []
    },
    {
      "cell_type": "code",
      "metadata": {
        "id": "jbqWlfMyQ1i4",
        "colab_type": "code",
        "colab": {}
      },
      "source": [
        "# When sampling the GraphSAGE subgraphs, we want to treat user-movie links as undirected\n",
        "G = sg.StellarGraph(graph, node_features=\"feature\")"
      ],
      "execution_count": 0,
      "outputs": []
    },
    {
      "cell_type": "code",
      "metadata": {
        "id": "O_2aH3MpQ1i6",
        "colab_type": "code",
        "outputId": "e53c6e96-926e-4b63-d9ce-37d21cdec27e",
        "colab": {
          "base_uri": "https://localhost:8080/",
          "height": 272
        }
      },
      "source": [
        "print(G.info())"
      ],
      "execution_count": 0,
      "outputs": [
        {
          "output_type": "stream",
          "text": [
            "StellarGraph: Undirected multigraph\n",
            " Nodes: 9746, Edges: 1000209\n",
            "\n",
            " Node types:\n",
            "  movie: [3706]\n",
            "        Attributes: {'feature', 'bipartite'}\n",
            "    Edge types: movie-default->user\n",
            "  user: [6040]\n",
            "        Attributes: {'feature', 'bipartite'}\n",
            "    Edge types: user-default->movie\n",
            "\n",
            " Edge types:\n",
            "    user-default->movie: [1000209]\n",
            "        Attributes: {'rating'}\n",
            "\n"
          ],
          "name": "stdout"
        }
      ]
    },
    {
      "cell_type": "code",
      "metadata": {
        "id": "eKZg6xjXQ1i8",
        "colab_type": "code",
        "colab": {}
      },
      "source": [
        "batch_size = 64"
      ],
      "execution_count": 0,
      "outputs": []
    },
    {
      "cell_type": "code",
      "metadata": {
        "id": "fhBzAe5EQ1i-",
        "colab_type": "code",
        "colab": {}
      },
      "source": [
        "num_samples =  [8, 4]"
      ],
      "execution_count": 0,
      "outputs": []
    },
    {
      "cell_type": "code",
      "metadata": {
        "id": "aXoQzKK1Q1jA",
        "colab_type": "code",
        "colab": {}
      },
      "source": [
        "generator = HinSAGELinkGenerator(\n",
        "            G,\n",
        "            batch_size,\n",
        "            num_samples,\n",
        "            head_node_types=['user', 'movie']\n",
        "        )\n",
        "\n",
        "gen_train = generator.flow(edgelist_train, labels_train, shuffle=True)\n",
        "gen_val = generator.flow(edgelist_val, labels_val, shuffle=True)\n",
        "gen_test = generator.flow(edgelist_test, labels_test)"
      ],
      "execution_count": 0,
      "outputs": []
    },
    {
      "cell_type": "code",
      "metadata": {
        "id": "oqhOdKAKQ1jC",
        "colab_type": "code",
        "colab": {}
      },
      "source": [
        "hinsage_layer_sizes = [32, 32]\n",
        "assert len(hinsage_layer_sizes) == len(num_samples)\n",
        "\n",
        "hinsage = HinSAGE(layer_sizes=hinsage_layer_sizes, \n",
        "                  generator=generator, \n",
        "                  bias=True, \n",
        "                  dropout=0.00)"
      ],
      "execution_count": 0,
      "outputs": []
    },
    {
      "cell_type": "code",
      "metadata": {
        "id": "39lZTUTdQ1jE",
        "colab_type": "code",
        "colab": {}
      },
      "source": [
        "# Expose input and output sockets of hinsage:\n",
        "x_inp, x_out = hinsage.build()"
      ],
      "execution_count": 0,
      "outputs": []
    },
    {
      "cell_type": "code",
      "metadata": {
        "id": "BkHX2fcXQ1jG",
        "colab_type": "code",
        "outputId": "0b654033-9274-4aea-99a5-746189bdca4d",
        "colab": {
          "base_uri": "https://localhost:8080/",
          "height": 34
        }
      },
      "source": [
        "# Final estimator layer\n",
        "# score_prediction = link_regression(edge_embedding_method='concat')(x_out)\n",
        "score_prediction = link_classification(output_act='relu', edge_embedding_method='ip')(x_out)"
      ],
      "execution_count": 0,
      "outputs": [
        {
          "output_type": "stream",
          "text": [
            "link_classification: using 'ip' method to combine node embeddings into edge embeddings\n"
          ],
          "name": "stdout"
        }
      ]
    },
    {
      "cell_type": "code",
      "metadata": {
        "id": "G0fXJJIJQ1jJ",
        "colab_type": "code",
        "colab": {}
      },
      "source": [
        "import tensorflow.keras.backend as K\n",
        "def root_mean_square_error(s_true, s_pred):\n",
        "    return K.sqrt(K.mean(K.pow(s_true - s_pred, 2)))\n",
        "\n",
        "model = Model(inputs=x_inp, outputs=score_prediction)\n",
        "model.compile(\n",
        "    optimizer=optimizers.Adam(lr=1e-2),\n",
        "    loss=losses.mean_squared_error,\n",
        "    metrics=[keras_metrics.binary_accuracy]\n",
        ")"
      ],
      "execution_count": 0,
      "outputs": []
    },
    {
      "cell_type": "code",
      "metadata": {
        "id": "WH30TGDRGQek",
        "colab_type": "code",
        "outputId": "de516530-980a-45f0-c3d9-e42f657cee46",
        "colab": {
          "base_uri": "https://localhost:8080/",
          "height": 1000
        }
      },
      "source": [
        "import matplotlib.pyplot as plt\n",
        "import time\n",
        "%matplotlib inline\n",
        "\n",
        "import tensorflow.keras.backend as K\n",
        "def root_mean_square_error(s_true, s_pred):\n",
        "    return K.sqrt(K.mean(K.pow(s_true - s_pred, 2)))\n",
        "\n",
        "def plot_history(history):\n",
        "    metrics = sorted(history.history.keys())\n",
        "    metrics = metrics[:len(metrics)//2]\n",
        "    for m in metrics:\n",
        "        # summarize history for metric m\n",
        "        plt.plot(history.history[m])\n",
        "        plt.plot(history.history['val_' + m])\n",
        "        plt.title(m)\n",
        "        plt.ylabel(m)\n",
        "        plt.xlabel('epoch')\n",
        "        plt.legend(['train', 'test'], loc='best')\n",
        "        plt.show()\n",
        "\n",
        "\n",
        "def run_evaluation(predictions, truth):\n",
        "    curve_args = []\n",
        "#     pdb.set_trace()\n",
        "    roc_auc = roc_auc_score(predictions, truth)\n",
        "    fpr, tpr, t = roc_curve(predictions, truth)\n",
        "    \n",
        "#     COLORS = ['r', 'b', 'g', 'm', 'y', 'c', 'k', '#FF9900', '#006600', '#663300']\n",
        "#     curve_args.append((fpr, tpr, COLORS[i % len(COLORS)]))\n",
        "    curve_args.append((fpr, tpr, 'r'))\n",
        "\n",
        "    plt.figure(figsize=(5, 5))\n",
        "    plt.xlabel('False Positive Rate')\n",
        "    plt.ylabel('True Positive Rate')\n",
        "    plt.xlim([0.0, 1.0])\n",
        "    plt.title('ROC Curve')\n",
        "    for (fpr, tpr, color) in curve_args:\n",
        "        plt.plot(fpr, tpr, label='HinSAGE', color=color)\n",
        "    plt.legend(loc=\"best\")\n",
        "    plt.show()\n",
        "\n",
        "    print (f\"ROC Auc = {roc_auc:.4f}\")\n",
        "\n",
        "\n",
        "# When sampling the GraphSAGE subgraphs, we want to treat user-movie links as undirected\n",
        "G = sg.StellarGraph(graph, node_features=\"feature\")\n",
        "batch_size = 64\n",
        "num_samples =  [8, 4]\n",
        "hinsage_layer_sizes = [32, 32]\n",
        "generator = HinSAGELinkGenerator(\n",
        "            G,\n",
        "            batch_size,\n",
        "            num_samples,\n",
        "            head_node_types=['user', 'movie']\n",
        "        )\n",
        "num_workers = multiprocessing.cpu_count()\n",
        "scores = []\n",
        "for i in range(3):\n",
        "    print(f'Run [{i}]')\n",
        "    # 80% Train, 10% Val, 10% Test\n",
        "    edges_train, edges_test = model_selection.train_test_split(edges, train_size=0.8, random_state=42)\n",
        "    edges_val, edges_test = model_selection.train_test_split(edges_test, train_size=0.5, random_state=42)\n",
        "\n",
        "    edgelist_train = [(e[0],e[1]) for e in edges_train]\n",
        "    edgelist_val = [(e[0],e[1]) for e in edges_val]\n",
        "    edgelist_test = [(e[0],e[1]) for e in edges_test]\n",
        "\n",
        "    labels_train = [e[2][\"rating\"] for e in edges_train]\n",
        "    labels_val = [e[2][\"rating\"] for e in edges_val]\n",
        "    labels_test = [e[2][\"rating\"] for e in edges_test]\n",
        "\n",
        "    gen_train = generator.flow(edgelist_train, labels_train, shuffle=True)\n",
        "    gen_val = generator.flow(edgelist_val, labels_val, shuffle=True)\n",
        "    gen_test = generator.flow(edgelist_test, labels_test)\n",
        "\n",
        "    hinsage = HinSAGE(layer_sizes=hinsage_layer_sizes, \n",
        "                  generator=generator, \n",
        "                  bias=True, \n",
        "                  dropout=0.00)\n",
        "    # Expose input and output sockets of hinsage:\n",
        "    x_inp, x_out = hinsage.build()\n",
        "    score_prediction = link_classification(output_act='relu', edge_embedding_method='ip')(x_out)\n",
        "\n",
        "    model = Model(inputs=x_inp, outputs=score_prediction)\n",
        "    model.compile(\n",
        "        optimizer=optimizers.Adam(lr=1e-2),\n",
        "        loss=losses.mean_squared_error,\n",
        "        metrics=[keras_metrics.binary_accuracy]\n",
        "    )\n",
        "\n",
        "    epochs = 3\n",
        "    start = time.time()\n",
        "    history = model.fit_generator(\n",
        "                gen_train,\n",
        "                validation_data=gen_test,\n",
        "                epochs=epochs,\n",
        "                verbose=1,\n",
        "                shuffle=False,\n",
        "                use_multiprocessing=True,\n",
        "                workers=num_workers,\n",
        "            )\n",
        "    end = time.time() - start\n",
        "    print(f'Time to train {end} seconds')\n",
        "    plot_history(history)\n",
        "    test_metrics = model.evaluate_generator(gen_test, use_multiprocessing=True, workers=num_workers, \n",
        "                                        verbose=1)\n",
        "    print(\"Test Evaluation:\")\n",
        "    for name, val in zip(model.metrics_names, test_metrics):\n",
        "        print(\"\\t{}: {:0.4f}\".format(name, val))\n",
        "\n",
        "    y_true = labels_test\n",
        "    # Predict the rankings using the model:\n",
        "    y_pred = model.predict_generator(gen_test)\n",
        "    run_evaluation(y_true, y_pred)\n",
        "    \n",
        "    score = roc_auc_score(y_true, y_pred)\n",
        "    print(f'ROC AUC: {score}')\n",
        "    \n",
        "    scores.append(score)\n",
        "print(f'Average Score over {epochs} epochs: {np.average(scores)}')"
      ],
      "execution_count": 0,
      "outputs": [
        {
          "output_type": "stream",
          "text": [
            "Run [0]\n",
            "WARNING:tensorflow:From /usr/local/lib/python3.6/dist-packages/tensorflow/python/ops/init_ops.py:1251: calling VarianceScaling.__init__ (from tensorflow.python.ops.init_ops) with dtype is deprecated and will be removed in a future version.\n",
            "Instructions for updating:\n",
            "Call initializer instance with the dtype argument instead of passing it to the constructor\n",
            "link_classification: using 'ip' method to combine node embeddings into edge embeddings\n",
            "Epoch 1/3\n",
            "WARNING:tensorflow:From /usr/local/lib/python3.6/dist-packages/tensorflow/python/ops/math_grad.py:1250: add_dispatch_support.<locals>.wrapper (from tensorflow.python.ops.array_ops) is deprecated and will be removed in a future version.\n",
            "Instructions for updating:\n",
            "Use tf.where in 2.0, which has the same broadcast rule as np.where\n",
            "25006/25006 [==============================] - 884s 35ms/step - loss: 0.1886 - binary_accuracy: 0.7112 - val_loss: 0.1836 - val_binary_accuracy: 0.7226\n",
            "Epoch 2/3\n",
            "25006/25006 [==============================] - 847s 34ms/step - loss: 0.1833 - binary_accuracy: 0.7225 - val_loss: 0.1821 - val_binary_accuracy: 0.7251\n",
            "Epoch 3/3\n",
            "25006/25006 [==============================] - 857s 34ms/step - loss: 0.1819 - binary_accuracy: 0.7255 - val_loss: 0.1812 - val_binary_accuracy: 0.7262\n",
            "Time to train 2588.2227625846863 seconds\n"
          ],
          "name": "stdout"
        },
        {
          "output_type": "display_data",
          "data": {
            "image/png": "[encoded data removed]",
            "text/plain": [
              "<Figure size 432x288 with 1 Axes>"
            ]
          },
          "metadata": {
            "tags": []
          }
        },
        {
          "output_type": "display_data",
          "data": {
            "image/png": "[encoded data removed]",
            "text/plain": [
              "<Figure size 432x288 with 1 Axes>"
            ]
          },
          "metadata": {
            "tags": []
          }
        },
        {
          "output_type": "stream",
          "text": [
            "3126/3126 [==============================] - 102s 33ms/step - loss: 0.1812 - binary_accuracy: 0.7261\n",
            "Test Evaluation:\n",
            "\tloss: 0.1812\n",
            "\tbinary_accuracy: 0.7261\n"
          ],
          "name": "stdout"
        },
        {
          "output_type": "display_data",
          "data": {
            "image/png": "[encoded data removed]",
            "text/plain": [
              "<Figure size 360x360 with 1 Axes>"
            ]
          },
          "metadata": {
            "tags": []
          }
        },
        {
          "output_type": "stream",
          "text": [
            "ROC Auc = 0.8044\n",
            "ROC AUC: 0.8044334464442873\n",
            "Run [1]\n",
            "link_classification: using 'ip' method to combine node embeddings into edge embeddings\n",
            "Epoch 1/3\n",
            "25006/25006 [==============================] - 763s 30ms/step - loss: 0.1891 - binary_accuracy: 0.7104 - val_loss: 0.1842 - val_binary_accuracy: 0.7206\n",
            "Epoch 2/3\n",
            "25006/25006 [==============================] - 758s 30ms/step - loss: 0.1841 - binary_accuracy: 0.7209 - val_loss: 0.1833 - val_binary_accuracy: 0.7222\n",
            "Epoch 3/3\n",
            "25006/25006 [==============================] - 747s 30ms/step - loss: 0.1831 - binary_accuracy: 0.7229 - val_loss: 0.1831 - val_binary_accuracy: 0.7228\n",
            "Time to train 2268.324670314789 seconds\n"
          ],
          "name": "stdout"
        },
        {
          "output_type": "display_data",
          "data": {
            "image/png": "[encoded data removed]",
            "text/plain": [
              "<Figure size 432x288 with 1 Axes>"
            ]
          },
          "metadata": {
            "tags": []
          }
        },
        {
          "output_type": "display_data",
          "data": {
            "image/png": "[encoded data removed]",
            "text/plain": [
              "<Figure size 432x288 with 1 Axes>"
            ]
          },
          "metadata": {
            "tags": []
          }
        },
        {
          "output_type": "stream",
          "text": [
            "3126/3126 [==============================] - 76s 24ms/step - loss: 0.1825 - binary_accuracy: 0.7240\n",
            "Test Evaluation:\n",
            "\tloss: 0.1825\n",
            "\tbinary_accuracy: 0.7240\n"
          ],
          "name": "stdout"
        },
        {
          "output_type": "display_data",
          "data": {
            "image/png": "[encoded data removed]",
            "text/plain": [
              "<Figure size 360x360 with 1 Axes>"
            ]
          },
          "metadata": {
            "tags": []
          }
        },
        {
          "output_type": "stream",
          "text": [
            "ROC Auc = 0.8008\n",
            "ROC AUC: 0.8008320639926568\n",
            "Run [2]\n",
            "link_classification: using 'ip' method to combine node embeddings into edge embeddings\n",
            "Epoch 1/3\n",
            "25006/25006 [==============================] - 752s 30ms/step - loss: 0.1885 - binary_accuracy: 0.7114 - val_loss: 0.1838 - val_binary_accuracy: 0.7215\n",
            "Epoch 2/3\n",
            "13024/25006 [==============>...............] - ETA: 5:16 - loss: 0.1840 - binary_accuracy: 0.7211"
          ],
          "name": "stdout"
        }
      ]
    },
    {
      "cell_type": "code",
      "metadata": {
        "id": "ibn2Xm47u9k0",
        "colab_type": "code",
        "colab": {}
      },
      "source": [
        "num_workers = multiprocessing.cpu_count()"
      ],
      "execution_count": 0,
      "outputs": []
    },
    {
      "cell_type": "code",
      "metadata": {
        "id": "MNoIpmvfQ1jN",
        "colab_type": "code",
        "outputId": "8d097b83-20eb-4593-d56d-fa74e155b9a4",
        "colab": {
          "base_uri": "https://localhost:8080/",
          "height": 85
        }
      },
      "source": [
        "# test_metrics = model.evaluate_generator(gen_test, verbose=1, use_multiprocessing=True, workers=num_workers)\n",
        "test_metrics = model.evaluate_generator(gen_test, verbose=1, use_multiprocessing=True, workers=num_workers)\n",
        "\n",
        "print(\"Untrained model's Test Evaluation:\")\n",
        "for name, val in zip(model.metrics_names, test_metrics):\n",
        "    print(\"\\t{}: {:0.4f}\".format(name, val))"
      ],
      "execution_count": 0,
      "outputs": [
        {
          "output_type": "stream",
          "text": [
            "12503/12503 [==============================] - 112s 9ms/step - loss: 0.4160 - binary_accuracy: 0.5007\n",
            "Untrained model's Test Evaluation:\n",
            "\tloss: 0.4160\n",
            "\tbinary_accuracy: 0.5007\n"
          ],
          "name": "stdout"
        }
      ]
    },
    {
      "cell_type": "code",
      "metadata": {
        "id": "RftmKIolQ1jQ",
        "colab_type": "code",
        "outputId": "5187a2e1-26e3-4208-9b94-0affe4a76739",
        "colab": {
          "base_uri": "https://localhost:8080/",
          "height": 119
        }
      },
      "source": [
        "epochs = 3\n",
        "history = model.fit_generator(\n",
        "            gen_train,\n",
        "            validation_data=gen_test,\n",
        "            epochs=epochs,\n",
        "            verbose=1,\n",
        "            shuffle=False,\n",
        "            use_multiprocessing=True,\n",
        "            workers=num_workers,\n",
        "        )"
      ],
      "execution_count": 0,
      "outputs": [
        {
          "output_type": "stream",
          "text": [
            "Epoch 1/3\n",
            "25006/25006 [==============================] - 854s 34ms/step - loss: 0.1888 - binary_accuracy: 0.7108 - val_loss: 0.1847 - val_binary_accuracy: 0.7206\n",
            "Epoch 2/3\n",
            "25006/25006 [==============================] - 834s 33ms/step - loss: 0.1835 - binary_accuracy: 0.7222 - val_loss: 0.1820 - val_binary_accuracy: 0.7249\n",
            "Epoch 3/3\n",
            "25006/25006 [==============================] - 810s 32ms/step - loss: 0.1823 - binary_accuracy: 0.7246 - val_loss: 0.1812 - val_binary_accuracy: 0.7271\n"
          ],
          "name": "stdout"
        }
      ]
    },
    {
      "cell_type": "code",
      "metadata": {
        "id": "_EQnzM3SQ1jU",
        "colab_type": "code",
        "colab": {}
      },
      "source": [
        "import matplotlib.pyplot as plt\n",
        "%matplotlib inline\n",
        "\n",
        "def plot_history(history):\n",
        "    metrics = sorted(history.history.keys())\n",
        "    metrics = metrics[:len(metrics)//2]\n",
        "    for m in metrics:\n",
        "        # summarize history for metric m\n",
        "        plt.plot(history.history[m])\n",
        "        plt.plot(history.history['val_' + m])\n",
        "        plt.title(m)\n",
        "        plt.ylabel(m)\n",
        "        plt.xlabel('epoch')\n",
        "        plt.legend(['train', 'test'], loc='best')\n",
        "        plt.show()"
      ],
      "execution_count": 0,
      "outputs": []
    },
    {
      "cell_type": "code",
      "metadata": {
        "id": "Y-4-Ekf0Q1jZ",
        "colab_type": "code",
        "outputId": "fb8f41de-733c-469e-e160-9ea39d78248a",
        "colab": {
          "base_uri": "https://localhost:8080/",
          "height": 573
        }
      },
      "source": [
        "plot_history(history)"
      ],
      "execution_count": 0,
      "outputs": [
        {
          "output_type": "display_data",
          "data": {
            "image/png": "[encoded data removed]",
            "text/plain": [
              "<Figure size 432x288 with 1 Axes>"
            ]
          },
          "metadata": {
            "tags": []
          }
        },
        {
          "output_type": "display_data",
          "data": {
            "image/png": "[encoded data removed]",
            "text/plain": [
              "<Figure size 432x288 with 1 Axes>"
            ]
          },
          "metadata": {
            "tags": []
          }
        }
      ]
    },
    {
      "cell_type": "code",
      "metadata": {
        "id": "Tk6eZajBQ1jc",
        "colab_type": "code",
        "outputId": "4033e0b0-2b90-45b1-d658-fcfa0cf6e406",
        "colab": {
          "base_uri": "https://localhost:8080/",
          "height": 85
        }
      },
      "source": [
        "test_metrics = model.evaluate_generator(gen_test, use_multiprocessing=True, workers=num_workers, \n",
        "                                        verbose=1)\n",
        "\n",
        "print(\"Test Evaluation:\")\n",
        "for name, val in zip(model.metrics_names, test_metrics):\n",
        "    print(\"\\t{}: {:0.4f}\".format(name, val))"
      ],
      "execution_count": 0,
      "outputs": [
        {
          "output_type": "stream",
          "text": [
            "3126/3126 [==============================] - 80s 26ms/step - loss: 0.1820 - binary_accuracy: 0.7243\n",
            "Test Evaluation:\n",
            "\tloss: 0.1820\n",
            "\tbinary_accuracy: 0.7243\n"
          ],
          "name": "stdout"
        }
      ]
    },
    {
      "cell_type": "code",
      "metadata": {
        "id": "CY8pObuHpDB4",
        "colab_type": "code",
        "colab": {}
      },
      "source": [
        "y_true = labels_test\n",
        "# Predict the rankings using the model:\n",
        "y_pred = model.predict_generator(gen_test)"
      ],
      "execution_count": 0,
      "outputs": []
    },
    {
      "cell_type": "code",
      "metadata": {
        "id": "Smmxu860pJcK",
        "colab_type": "code",
        "outputId": "1269edaf-bce6-4467-d518-3ad40c476e79",
        "colab": {
          "base_uri": "https://localhost:8080/",
          "height": 34
        }
      },
      "source": [
        "score = roc_auc_score(y_true, y_pred)\n",
        "print(f'ROC AUC: {score}')"
      ],
      "execution_count": 0,
      "outputs": [
        {
          "output_type": "stream",
          "text": [
            "ROC AUC: 0.8032536160072924\n"
          ],
          "name": "stdout"
        }
      ]
    },
    {
      "cell_type": "code",
      "metadata": {
        "id": "Xcy9lA2vpxoK",
        "colab_type": "code",
        "colab": {}
      },
      "source": [
        "def run_evaluation(predictions, truth):\n",
        "    curve_args = []\n",
        "#     pdb.set_trace()\n",
        "    roc_auc = roc_auc_score(predictions, truth)\n",
        "    fpr, tpr, t = roc_curve(predictions, truth)\n",
        "    \n",
        "#     COLORS = ['r', 'b', 'g', 'm', 'y', 'c', 'k', '#FF9900', '#006600', '#663300']\n",
        "#     curve_args.append((fpr, tpr, COLORS[i % len(COLORS)]))\n",
        "    curve_args.append((fpr, tpr, 'r'))\n",
        "\n",
        "    plt.figure(figsize=(5, 5))\n",
        "    plt.xlabel('False Positive Rate')\n",
        "    plt.ylabel('True Positive Rate')\n",
        "    plt.xlim([0.0, 1.0])\n",
        "    plt.title('ROC Curve')\n",
        "    for (fpr, tpr, color) in curve_args:\n",
        "        plt.plot(fpr, tpr, label='HinSAGE', color=color)\n",
        "    plt.legend(loc=\"best\")\n",
        "    plt.show()\n",
        "\n",
        "    print (f\"ROC Auc = {roc_auc:.4f}\")"
      ],
      "execution_count": 0,
      "outputs": []
    },
    {
      "cell_type": "code",
      "metadata": {
        "id": "vS7_hKlCpyes",
        "colab_type": "code",
        "outputId": "fdc3d5c2-2885-431b-8f51-f0c5ebad1f77",
        "colab": {
          "base_uri": "https://localhost:8080/",
          "height": 367
        }
      },
      "source": [
        "run_evaluation(y_true, y_pred)"
      ],
      "execution_count": 0,
      "outputs": [
        {
          "output_type": "display_data",
          "data": {
            "image/png": "[encoded data removed]",
            "text/plain": [
              "<Figure size 360x360 with 1 Axes>"
            ]
          },
          "metadata": {
            "tags": []
          }
        },
        {
          "output_type": "stream",
          "text": [
            "ROC Auc = 0.8033\n"
          ],
          "name": "stdout"
        }
      ]
    }
  ]
}